{
 "cells": [
  {
   "cell_type": "code",
   "execution_count": 3,
   "metadata": {},
   "outputs": [],
   "source": [
    "%matplotlib inline\n",
    "\n",
    "import numpy as np\n",
    "import sympy as sp\n",
    "import matplotlib.pyplot as plt"
   ]
  },
  {
   "cell_type": "markdown",
   "metadata": {},
   "source": [
    "## Affine mapping in V"
   ]
  },
  {
   "cell_type": "markdown",
   "metadata": {},
   "source": [
    "### Define an affine subspace(R^2) \n",
    "Let V(R^2) be a vector space, \n",
    "\n",
    "x0 belongs to V. \n",
    "\n"
   ]
  },
  {
   "cell_type": "code",
   "execution_count": 22,
   "metadata": {},
   "outputs": [
    {
     "data": {
      "image/png": "[encoded data removed]",
      "text/plain": [
       "<Figure size 432x288 with 1 Axes>"
      ]
     },
     "metadata": {
      "needs_background": "light"
     },
     "output_type": "display_data"
    }
   ],
   "source": [
    "x0 = np.array([1, -2]) # the original point\n",
    "\n",
    "U = np.array([3, -1]) # a subspace of V\n",
    "\n",
    "line = np.linspace(0, 50, 500) # the scalar\n",
    "\n",
    "# the affine subspace of V\n",
    "L0_x = []\n",
    "L0_y = []\n",
    "\n",
    "for i in line:\n",
    "    point1 = x0 + np.dot(i, U)\n",
    "    plt.scatter(point1[0], point1[1], c = 'green')\n",
    "    L0_x.append(point1[0])\n",
    "    L0_y.append(point1[1])\n",
    "\n",
    "\n",
    "L0 = np.array([L0_x, L0_y]).T"
   ]
  },
  {
   "cell_type": "code",
   "execution_count": 19,
   "metadata": {},
   "outputs": [
    {
     "data": {
      "text/plain": [
       "(500, 2)"
      ]
     },
     "execution_count": 19,
     "metadata": {},
     "output_type": "execute_result"
    }
   ],
   "source": [
    "L0.shape"
   ]
  },
  {
   "cell_type": "markdown",
   "metadata": {},
   "source": [
    "## Affine mapping from V to W"
   ]
  },
  {
   "cell_type": "markdown",
   "metadata": {},
   "source": [
    "Let A be the transformation matrix of vector space V to W(R^2), and\n",
    "\n",
    "let a be the translation matrix of vector space W"
   ]
  },
  {
   "cell_type": "code",
   "execution_count": 37,
   "metadata": {},
   "outputs": [
    {
     "data": {
      "image/png": "[encoded data removed]",
      "text/plain": [
       "<Figure size 432x288 with 1 Axes>"
      ]
     },
     "metadata": {
      "needs_background": "light"
     },
     "output_type": "display_data"
    }
   ],
   "source": [
    "A = np.array([[3, 2],\n",
    "             [4, -1]])\n",
    "\n",
    "a = np.array([-100, -200])\n",
    "\n",
    "# the affine subspace of W\n",
    "L1_x = []\n",
    "L1_y = []\n",
    "\n",
    "\n",
    "for i in range(L0.shape[0]):\n",
    "    point2 = a + np.dot(A, L0[i])\n",
    "    plt.scatter(point2[0], point2[1], c = 'blue')\n",
    "    L1_x.append(point2[0])\n",
    "    L1_y.append(point2[1])\n",
    "    "
   ]
  },
  {
   "cell_type": "markdown",
   "metadata": {},
   "source": [
    "## Compare"
   ]
  },
  {
   "cell_type": "code",
   "execution_count": 38,
   "metadata": {},
   "outputs": [
    {
     "data": {
      "text/plain": [
       "<matplotlib.collections.PathCollection at 0x2402411df28>"
      ]
     },
     "execution_count": 38,
     "metadata": {},
     "output_type": "execute_result"
    },
    {
     "data": {
      "image/png": "[encoded data removed]",
      "text/plain": [
       "<Figure size 432x288 with 1 Axes>"
      ]
     },
     "metadata": {
      "needs_background": "light"
     },
     "output_type": "display_data"
    }
   ],
   "source": [
    "plt.axvline(c = 'black')\n",
    "plt.axhline(c = 'black')\n",
    "plt.scatter(L0_x, L0_y, c = 'green')\n",
    "plt.scatter(L1_x, L1_y, c = 'blue')"
   ]
  }
 ],
 "metadata": {
  "kernelspec": {
   "display_name": "Python (tensorflowenv)",
   "language": "python",
   "name": "python3"
  },
  "language_info": {
   "codemirror_mode": {
    "name": "ipython",
    "version": 3
   },
   "file_extension": ".py",
   "mimetype": "text/x-python",
   "name": "python",
   "nbconvert_exporter": "python",
   "pygments_lexer": "ipython3",
   "version": "3.7.3"
  }
 },
 "nbformat": 4,
 "nbformat_minor": 4
}
