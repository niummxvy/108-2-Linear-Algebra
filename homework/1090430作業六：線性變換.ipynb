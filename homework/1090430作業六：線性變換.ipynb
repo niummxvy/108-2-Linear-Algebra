{
 "cells": [
  {
   "cell_type": "code",
   "execution_count": 37,
   "metadata": {},
   "outputs": [],
   "source": [
    "%matplotlib inline\n",
    "\n",
    "import numpy as np\n",
    "import sympy as sp\n",
    "import math\n",
    "import matplotlib.pyplot as plt"
   ]
  },
  {
   "cell_type": "markdown",
   "metadata": {},
   "source": [
    "### 在二維平面上定義出一區域 S，將其畫出\n",
    "#### 畫出一個矩形"
   ]
  },
  {
   "cell_type": "code",
   "execution_count": 89,
   "metadata": {},
   "outputs": [
    {
     "data": {
      "text/plain": [
       "Text(0.5, 1.0, '$S$')"
      ]
     },
     "execution_count": 89,
     "metadata": {},
     "output_type": "execute_result"
    },
    {
     "data": {
      "image/png": "[encoded data removed]",
      "text/plain": [
       "<Figure size 432x288 with 1 Axes>"
      ]
     },
     "metadata": {
      "needs_background": "light"
     },
     "output_type": "display_data"
    }
   ],
   "source": [
    "x1 = np.linspace(-5, 10, 12)\n",
    "y1 = np.linspace(-15, -10, 6)\n",
    "x2, y2 = np.meshgrid(x1, y1) # 建立網格座標(一維變二維)\n",
    "x2, y2 = x2.flatten(), y2.flatten() # 將原本二維陣列壓回一維\n",
    "Vstack = np.vstack([x2, y2]) # 將每row陣列堆疊起來(上, ..., 下)\n",
    "\n",
    "plt.scatter(x2, y2, c = 'b')\n",
    "\n",
    "plt.xlim(-20, 20)\n",
    "plt.ylim(-20, 20)\n",
    "plt.title(\"$S$\")\n",
    "# Vstack\n"
   ]
  },
  {
   "cell_type": "markdown",
   "metadata": {},
   "source": [
    "### 定義一個線性轉換 T\n",
    "### 再將 S 經過線性轉換 T 後的樣子畫出\n",
    "#### 1. 使矩形逆時鐘旋轉30度"
   ]
  },
  {
   "cell_type": "code",
   "execution_count": 69,
   "metadata": {},
   "outputs": [],
   "source": [
    "rot1 = np.array([[np.cos(np.pi/6), -np.sin(np.pi/6)],\n",
    "               [np.sin(np.pi/6), np.cos(np.pi/6)]])\n",
    "\n",
    "def phi(x):\n",
    "    return rot1@x"
   ]
  },
  {
   "cell_type": "code",
   "execution_count": 92,
   "metadata": {},
   "outputs": [
    {
     "data": {
      "text/plain": [
       "Text(0.5, 1.0, '$\\\\Phi(S)$')"
      ]
     },
     "execution_count": 92,
     "metadata": {},
     "output_type": "execute_result"
    },
    {
     "data": {
      "image/png": "[encoded data removed]",
      "text/plain": [
       "<Figure size 432x288 with 1 Axes>"
      ]
     },
     "metadata": {
      "needs_background": "light"
     },
     "output_type": "display_data"
    }
   ],
   "source": [
    "x3, y3 = phi(Vstack)\n",
    "Vstack = np.vstack([x3, y3])\n",
    "plt.scatter(x2, y2, c = 'b')\n",
    "plt.scatter(x3, y3, c = 'r')\n",
    "plt.xlim(-20, 20)\n",
    "plt.ylim(-20, 20)\n",
    "plt.title(\"$\\Phi(S)$\")"
   ]
  },
  {
   "cell_type": "markdown",
   "metadata": {},
   "source": [
    "#### 2. 再旋轉30度+座標2倍"
   ]
  },
  {
   "cell_type": "code",
   "execution_count": 81,
   "metadata": {},
   "outputs": [],
   "source": [
    "rot1 = np.array([[np.cos(np.pi/6), -np.sin(np.pi/6)],\n",
    "               [np.sin(np.pi/6), np.cos(np.pi/6)]])"
   ]
  },
  {
   "cell_type": "code",
   "execution_count": 93,
   "metadata": {},
   "outputs": [
    {
     "data": {
      "text/plain": [
       "Text(0.5, 1.0, '$\\\\Phi(S)$')"
      ]
     },
     "execution_count": 93,
     "metadata": {},
     "output_type": "execute_result"
    },
    {
     "data": {
      "image/png": "[encoded data removed]",
      "text/plain": [
       "<Figure size 432x288 with 1 Axes>"
      ]
     },
     "metadata": {
      "needs_background": "light"
     },
     "output_type": "display_data"
    }
   ],
   "source": [
    "x4, y4 = 2*phi(Vstack)\n",
    "\n",
    "plt.scatter(x2, y2, c = 'b')\n",
    "plt.scatter(x3, y3, c = 'r')\n",
    "plt.scatter(x4, y4, c = 'g')\n",
    "plt.xlim(-40, 40)\n",
    "plt.ylim(-40, 40)\n",
    "plt.title(\"$\\Phi(S)$\")"
   ]
  },
  {
   "cell_type": "code",
   "execution_count": null,
   "metadata": {},
   "outputs": [],
   "source": []
  },
  {
   "cell_type": "code",
   "execution_count": null,
   "metadata": {},
   "outputs": [],
   "source": []
  }
 ],
 "metadata": {
  "kernelspec": {
   "display_name": "Python (tensorflowenv)",
   "language": "python",
   "name": "python3"
  },
  "language_info": {
   "codemirror_mode": {
    "name": "ipython",
    "version": 3
   },
   "file_extension": ".py",
   "mimetype": "text/x-python",
   "name": "python",
   "nbconvert_exporter": "python",
   "pygments_lexer": "ipython3",
   "version": "3.7.3"
  }
 },
 "nbformat": 4,
 "nbformat_minor": 4
}
