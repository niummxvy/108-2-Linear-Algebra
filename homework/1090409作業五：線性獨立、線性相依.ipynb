{
 "cells": [
  {
   "cell_type": "code",
   "execution_count": 2,
   "metadata": {},
   "outputs": [],
   "source": [
    "%matplotlib inline\n",
    "\n",
    "import numpy as np\n",
    "import matplotlib.pyplot as plt\n",
    "import sympy as sp"
   ]
  },
  {
   "cell_type": "markdown",
   "metadata": {},
   "source": [
    "### 給定四個五維行向量a, b, c, d"
   ]
  },
  {
   "cell_type": "code",
   "execution_count": 3,
   "metadata": {},
   "outputs": [],
   "source": [
    "from sympy.abc import a, b, c, d"
   ]
  },
  {
   "cell_type": "code",
   "execution_count": 4,
   "metadata": {},
   "outputs": [
    {
     "name": "stdout",
     "output_type": "stream",
     "text": [
      "Matrix([[1], [2], [-5], [6], [8]])\n",
      "Matrix([[-4], [3], [9], [4], [0]])\n",
      "Matrix([[5], [6], [-7], [1], [2]])\n",
      "Matrix([[7], [-8], [2], [-3], [9]])\n"
     ]
    }
   ],
   "source": [
    "a = sp.Matrix([[1], [2], [-5], [6], [8]])\n",
    "b = sp.Matrix([[-4], [3], [9], [4], [0]])\n",
    "c = sp.Matrix([[5], [6], [-7], [1], [2]])\n",
    "d = sp.Matrix([[7], [-8], [2], [-3], [9]])\n",
    "\n",
    "print(a)\n",
    "print(b)\n",
    "print(c)\n",
    "print(d)"
   ]
  },
  {
   "cell_type": "code",
   "execution_count": 6,
   "metadata": {},
   "outputs": [
    {
     "data": {
      "text/latex": [
       "$\\displaystyle \\left[\\begin{matrix}1 & -4 & 5 & 7\\\\2 & 3 & 6 & -8\\\\-5 & 9 & -7 & 2\\\\6 & 4 & 1 & -3\\\\-8 & 0 & 2 & 9\\end{matrix}\\right]$"
      ],
      "text/plain": [
       "Matrix([\n",
       "[ 1, -4,  5,  7],\n",
       "[ 2,  3,  6, -8],\n",
       "[-5,  9, -7,  2],\n",
       "[ 6,  4,  1, -3],\n",
       "[-8,  0,  2,  9]])"
      ]
     },
     "execution_count": 6,
     "metadata": {},
     "output_type": "execute_result"
    }
   ],
   "source": [
    "A = sp.Matrix([[1, -4, 5, 7],\n",
    "              [2, 3, 6, -8],\n",
    "              [-5, 9, -7, 2],\n",
    "              [6, 4, 1, -3],\n",
    "              [-8, 0, 2, 9]])\n",
    "A"
   ]
  },
  {
   "cell_type": "code",
   "execution_count": 8,
   "metadata": {},
   "outputs": [
    {
     "data": {
      "text/latex": [
       "$\\displaystyle \\left[\\begin{matrix}1 & 0 & 0 & 0\\\\0 & 1 & 0 & 0\\\\0 & 0 & 1 & 0\\\\0 & 0 & 0 & 1\\\\0 & 0 & 0 & 0\\end{matrix}\\right]$"
      ],
      "text/plain": [
       "Matrix([\n",
       "[1, 0, 0, 0],\n",
       "[0, 1, 0, 0],\n",
       "[0, 0, 1, 0],\n",
       "[0, 0, 0, 1],\n",
       "[0, 0, 0, 0]])"
      ]
     },
     "execution_count": 8,
     "metadata": {},
     "output_type": "execute_result"
    }
   ],
   "source": [
    "B = A.rref()[0]\n",
    "B"
   ]
  },
  {
   "cell_type": "markdown",
   "metadata": {},
   "source": [
    "由B可知，在A做RREF之後，可看到所有的columns(vectors)都有pivot，意即：任一column(vector)都無法由其他column(vector)來生成\n",
    "\n",
    "B的線性獨立集最大能有4個向量"
   ]
  }
 ],
 "metadata": {
  "kernelspec": {
   "display_name": "Python (tensorflowenv)",
   "language": "python",
   "name": "python3"
  },
  "language_info": {
   "codemirror_mode": {
    "name": "ipython",
    "version": 3
   },
   "file_extension": ".py",
   "mimetype": "text/x-python",
   "name": "python",
   "nbconvert_exporter": "python",
   "pygments_lexer": "ipython3",
   "version": "3.7.3"
  }
 },
 "nbformat": 4,
 "nbformat_minor": 4
}
