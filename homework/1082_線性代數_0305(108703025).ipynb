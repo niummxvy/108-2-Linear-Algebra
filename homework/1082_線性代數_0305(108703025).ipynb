{
 "cells": [
  {
   "cell_type": "markdown",
   "metadata": {
    "colab_type": "text",
    "id": "yTYeYe5nCd6s"
   },
   "source": [
    "## 課程目標: 練習 Numpy 套件在線性代數方面的計算使用\n",
    "\n",
    "這份檔案為第二次程式的範本，同學可以複製到自己的 Google Drive 或下載使用，複製及下載的方式如下：\n",
    "請點選左上角的 ``File``，並選擇\n",
    "1. ``Save a copy in Drive...`` (複製本檔案到自己的 Google Drive，會開一個新頁面)\n",
    "2. ``Download .ipynb`` (會下載一個檔案到自己的電腦裡)\n",
    "\n",
    "\n",
    "* 繳交方式：Moodle 數位學習平台\n",
    "\n",
    "* 繳交期限: 2020/03/18(三) 23:59:59\n",
    "\n",
    "註: 不一定要使用這份檔案或格式來繳交，本檔案僅提供參考。"
   ]
  },
  {
   "cell_type": "markdown",
   "metadata": {
    "colab_type": "text",
    "id": "xIwUuvmvEJg2"
   },
   "source": [
    "## 匯入套件"
   ]
  },
  {
   "cell_type": "code",
   "execution_count": 4,
   "metadata": {
    "colab": {},
    "colab_type": "code",
    "id": "kAdJ7-ocCbDy"
   },
   "outputs": [],
   "source": [
    "%matplotlib inline\n",
    "\n",
    "import numpy as np\n",
    "import matplotlib.pyplot as plt"
   ]
  },
  {
   "cell_type": "markdown",
   "metadata": {
    "colab_type": "text",
    "id": "U5ea-7Q_ELwL"
   },
   "source": [
    "## 定義向量和矩陣\n",
    "\n",
    "想像一個情境，會讓你使用到矩陣及向量，並透過 Numpy array 來定義你的情境中的矩陣及向量。"
   ]
  },
  {
   "cell_type": "code",
   "execution_count": 8,
   "metadata": {
    "colab": {},
    "colab_type": "code",
    "id": "kcGUt71wCdxu"
   },
   "outputs": [],
   "source": [
    "# 法國在台灣往東航行512海浬，再往北方航行624海浬，台灣在美國往東方航行1072海浬，再往南走928海浬，若以美國為原點，請問法國在哪裡呢?\n",
    "\n",
    "A=np.array([512,624])\n",
    "B=np.array([1072,928])"
   ]
  },
  {
   "cell_type": "markdown",
   "metadata": {
    "colab_type": "text",
    "id": "_kN_5Di2ERNv"
   },
   "source": [
    "## 操作定義好的向量及矩陣，\n",
    "\n",
    "根據你的情境，對矩陣及向量進行計算操作，可行的操作包含但不限於以下運算\n",
    "* 向量之間的加法\n",
    "* 矩陣之間的加法\n",
    "* 矩陣之間的乘法\n",
    "* 矩陣對向量的乘法\n",
    "* 矩陣的各種運算，如透過指令計算反矩陣。\n",
    "* 上課沒提到的各種神祕指令也可以。"
   ]
  },
  {
   "cell_type": "code",
   "execution_count": 9,
   "metadata": {
    "colab": {},
    "colab_type": "code",
    "id": "PFCcVHHpERY7"
   },
   "outputs": [
    {
     "data": {
      "text/plain": [
       "array([1584, 1552])"
      ]
     },
     "execution_count": 9,
     "metadata": {},
     "output_type": "execute_result"
    }
   ],
   "source": [
    "A+B"
   ]
  },
  {
   "cell_type": "markdown",
   "metadata": {
    "colab_type": "text",
    "id": "pL-aU3CSFJ4f"
   },
   "source": [
    "## 畫圖\n",
    "\n",
    "根據情境及運算後的結果，將其畫圖呈現"
   ]
  },
  {
   "cell_type": "code",
   "execution_count": 10,
   "metadata": {
    "colab": {},
    "colab_type": "code",
    "id": "yQII7O-rFJVP"
   },
   "outputs": [
    {
     "data": {
      "text/plain": [
       "[<matplotlib.lines.Line2D at 0x1fb3be41588>]"
      ]
     },
     "execution_count": 10,
     "metadata": {},
     "output_type": "execute_result"
    },
    {
     "data": {
      "image/png": "[encoded data removed]",
      "text/plain": [
       "<Figure size 432x288 with 1 Axes>"
      ]
     },
     "metadata": {
      "needs_background": "light"
     },
     "output_type": "display_data"
    }
   ],
   "source": [
    "x1=np.linspace(0,512,500)\n",
    "y1=np.linspace(0,624,500)\n",
    "x2=np.linspace(512,1584,500)\n",
    "y2=np.linspace(624,1552,500)\n",
    "x3=np.linspace(0,1584,500)\n",
    "y3=np.linspace(0,1552,500)\n",
    "plt.plot(x1,y1)\n",
    "plt.plot(x2,y2)\n",
    "plt.plot(x3,y3)"
   ]
  }
 ],
 "metadata": {
  "colab": {
   "collapsed_sections": [],
   "name": "1082 線性代數 0305",
   "provenance": [],
   "toc_visible": true
  },
  "kernelspec": {
   "display_name": "Python 3",
   "language": "python",
   "name": "python3"
  },
  "language_info": {
   "codemirror_mode": {
    "name": "ipython",
    "version": 3
   },
   "file_extension": ".py",
   "mimetype": "text/x-python",
   "name": "python",
   "nbconvert_exporter": "python",
   "pygments_lexer": "ipython3",
   "version": "3.7.4"
  }
 },
 "nbformat": 4,
 "nbformat_minor": 1
}
