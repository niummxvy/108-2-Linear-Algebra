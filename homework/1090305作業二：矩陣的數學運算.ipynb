{
 "cells": [
  {
   "cell_type": "markdown",
   "metadata": {},
   "source": [
    "## This is a 100-meter race! (to some extent...)\n",
    "Player 1 (p1) and player 2 (p2) will compare with each other by their determinant.\n",
    "\n",
    "If determinant > 0, then he or she can run forward (accumulate the determinant).\n",
    "\n",
    "The winner is whose determinant reach to 100 first."
   ]
  },
  {
   "cell_type": "code",
   "execution_count": 7,
   "metadata": {},
   "outputs": [],
   "source": [
    "%matplotlib inline\n",
    "\n",
    "import numpy as np\n",
    "import matplotlib.pyplot as plt"
   ]
  },
  {
   "cell_type": "code",
   "execution_count": 145,
   "metadata": {},
   "outputs": [
    {
     "name": "stdout",
     "output_type": "stream",
     "text": [
      "p1 win!\n"
     ]
    },
    {
     "data": {
      "text/plain": [
       "<matplotlib.legend.Legend at 0x1e309c1f278>"
      ]
     },
     "execution_count": 145,
     "metadata": {},
     "output_type": "execute_result"
    },
    {
     "data": {
      "image/png": "[encoded data removed]",
      "text/plain": [
       "<Figure size 432x288 with 1 Axes>"
      ]
     },
     "metadata": {
      "needs_background": "light"
     },
     "output_type": "display_data"
    }
   ],
   "source": [
    "import random\n",
    "\n",
    "p1 = 0\n",
    "p2 = 0\n",
    "\n",
    "P1 = []\n",
    "P2 = []\n",
    "\n",
    "while(p1 < 100 and p2 < 100):\n",
    "    A = np.array([[random.randint(-10, 10), random.randint(-10000, 10000)],\n",
    "            [random.randint(-10, 10), random.randint(-10000, 10000)]])\n",
    "\n",
    "    B = np.array([[random.randint(-100, 100), random.randint(-1000, 1000)],\n",
    "            [random.randint(-100, 100), random.randint(-1000, 1000)]])\n",
    "#     print(\"\\nA:\")\n",
    "#     print(A)\n",
    "#     print(\"B:\")\n",
    "#     print(B)\n",
    "#     print(\"\\n\")\n",
    "    C = np.linalg.det(A) # 行列式值\n",
    "    D = np.linalg.det(B)\n",
    "    \n",
    "    if(C > 0):\n",
    "        p1 += C/10000\n",
    "        P1.append(p1)\n",
    "#        print(\"p1: %f\" % p1)\n",
    "#        print(P1)\n",
    "    if(D > 0):\n",
    "        p2 += D/10000\n",
    "        P2.append(p2)\n",
    "#        print(\"p2: %f\" % p2)\n",
    "#        print(P2)\n",
    "\n",
    "if(p1 > 100):\n",
    "    print(\"p1 win!\")\n",
    "elif(p2 > 100):\n",
    "    print(\"p2 win!\")\n",
    "\n",
    "plt.plot(P1, label = 'P1')\n",
    "plt.plot(P2, label = 'P2')\n",
    "plt.xlabel(\"Round\")\n",
    "plt.ylabel(\"Distance (m)\")\n",
    "plt.legend() # 顯示圖例"
   ]
  },
  {
   "cell_type": "code",
   "execution_count": null,
   "metadata": {},
   "outputs": [],
   "source": []
  },
  {
   "cell_type": "code",
   "execution_count": null,
   "metadata": {},
   "outputs": [],
   "source": []
  }
 ],
 "metadata": {
  "kernelspec": {
   "display_name": "Python (tensorflowenv)",
   "language": "python",
   "name": "python3"
  },
  "language_info": {
   "codemirror_mode": {
    "name": "ipython",
    "version": 3
   },
   "file_extension": ".py",
   "mimetype": "text/x-python",
   "name": "python",
   "nbconvert_exporter": "python",
   "pygments_lexer": "ipython3",
   "version": "3.7.3"
  }
 },
 "nbformat": 4,
 "nbformat_minor": 4
}
